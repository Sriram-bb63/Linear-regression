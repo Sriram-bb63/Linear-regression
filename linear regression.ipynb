{
 "cells": [
  {
   "cell_type": "code",
   "execution_count": 51,
   "metadata": {},
   "outputs": [],
   "source": [
    "import pandas as pd\n",
    "\n",
    "df = pd.read_csv(\"Fish.csv\")"
   ]
  },
  {
   "cell_type": "code",
   "execution_count": 52,
   "metadata": {},
   "outputs": [
    {
     "data": {
      "text/html": [
       "<div>\n",
       "<style scoped>\n",
       "    .dataframe tbody tr th:only-of-type {\n",
       "        vertical-align: middle;\n",
       "    }\n",
       "\n",
       "    .dataframe tbody tr th {\n",
       "        vertical-align: top;\n",
       "    }\n",
       "\n",
       "    .dataframe thead th {\n",
       "        text-align: right;\n",
       "    }\n",
       "</style>\n",
       "<table border=\"1\" class=\"dataframe\">\n",
       "  <thead>\n",
       "    <tr style=\"text-align: right;\">\n",
       "      <th></th>\n",
       "      <th>Species</th>\n",
       "      <th>Weight</th>\n",
       "      <th>Height</th>\n",
       "      <th>Width</th>\n",
       "      <th>Length</th>\n",
       "      <th>Volume</th>\n",
       "    </tr>\n",
       "  </thead>\n",
       "  <tbody>\n",
       "    <tr>\n",
       "      <th>0</th>\n",
       "      <td>Bream</td>\n",
       "      <td>242.0</td>\n",
       "      <td>11.5200</td>\n",
       "      <td>4.0200</td>\n",
       "      <td>26.200000</td>\n",
       "      <td>1213.332480</td>\n",
       "    </tr>\n",
       "    <tr>\n",
       "      <th>1</th>\n",
       "      <td>Bream</td>\n",
       "      <td>290.0</td>\n",
       "      <td>12.4800</td>\n",
       "      <td>4.3056</td>\n",
       "      <td>27.166667</td>\n",
       "      <td>1459.770624</td>\n",
       "    </tr>\n",
       "    <tr>\n",
       "      <th>2</th>\n",
       "      <td>Bream</td>\n",
       "      <td>340.0</td>\n",
       "      <td>12.3778</td>\n",
       "      <td>4.6961</td>\n",
       "      <td>27.166667</td>\n",
       "      <td>1579.127335</td>\n",
       "    </tr>\n",
       "    <tr>\n",
       "      <th>3</th>\n",
       "      <td>Bream</td>\n",
       "      <td>363.0</td>\n",
       "      <td>12.7300</td>\n",
       "      <td>4.4555</td>\n",
       "      <td>29.600000</td>\n",
       "      <td>1678.868044</td>\n",
       "    </tr>\n",
       "    <tr>\n",
       "      <th>4</th>\n",
       "      <td>Bream</td>\n",
       "      <td>430.0</td>\n",
       "      <td>12.4440</td>\n",
       "      <td>5.1340</td>\n",
       "      <td>29.833333</td>\n",
       "      <td>1905.976964</td>\n",
       "    </tr>\n",
       "  </tbody>\n",
       "</table>\n",
       "</div>"
      ],
      "text/plain": [
       "  Species  Weight   Height   Width     Length       Volume\n",
       "0   Bream   242.0  11.5200  4.0200  26.200000  1213.332480\n",
       "1   Bream   290.0  12.4800  4.3056  27.166667  1459.770624\n",
       "2   Bream   340.0  12.3778  4.6961  27.166667  1579.127335\n",
       "3   Bream   363.0  12.7300  4.4555  29.600000  1678.868044\n",
       "4   Bream   430.0  12.4440  5.1340  29.833333  1905.976964"
      ]
     },
     "execution_count": 52,
     "metadata": {},
     "output_type": "execute_result"
    }
   ],
   "source": [
    "df.drop(df[df[\"Weight\"] == 0].index, inplace=True)\n",
    "df[\"Length\"] = (df[\"Length1\"] + df[\"Length2\"] + df[\"Length3\"]) / 3\n",
    "df[\"Volume\"] = df[\"Length\"] * df[\"Height\"] * df[\"Width\"]\n",
    "\n",
    "df.drop([\"Length1\", \"Length2\", \"Length3\"], axis=1,inplace=True)\n",
    "\n",
    "df.head()"
   ]
  },
  {
   "cell_type": "code",
   "execution_count": 53,
   "metadata": {},
   "outputs": [
    {
     "data": {
      "text/plain": [
       "(158, 6)"
      ]
     },
     "execution_count": 53,
     "metadata": {},
     "output_type": "execute_result"
    }
   ],
   "source": [
    "df.shape"
   ]
  },
  {
   "cell_type": "code",
   "execution_count": 54,
   "metadata": {},
   "outputs": [],
   "source": [
    "x1 = df[\"Length\"]\n",
    "x2 = df[\"Height\"]\n",
    "x3 = df[\"Width\"]\n",
    "x4 = df[\"Volume\"]\n",
    "\n",
    "y = df[\"Weight\"]"
   ]
  },
  {
   "cell_type": "code",
   "execution_count": 55,
   "metadata": {},
   "outputs": [],
   "source": [
    "import matplotlib.pyplot as plt\n",
    "from sklearn.linear_model import LinearRegression\n",
    "plt.rcParams[\"figure.figsize\"] = (20,10)"
   ]
  },
  {
   "cell_type": "markdown",
   "metadata": {},
   "source": [
    "# x1 Length"
   ]
  },
  {
   "cell_type": "code",
   "execution_count": 56,
   "metadata": {},
   "outputs": [
    {
     "name": "stdout",
     "output_type": "stream",
     "text": [
      "\n",
      "Slope: [30.57609909]\n",
      "y intercept: -476.0673127029776\n"
     ]
    }
   ],
   "source": [
    "x1 = pd.DataFrame(x1)\n",
    "\n",
    "m1 = LinearRegression()\n",
    "m1.fit(x1, y)\n",
    "print(f\"\"\"\n",
    "Slope: {m1.coef_}\n",
    "y intercept: {m1.intercept_}\"\"\")\n",
    "p1 = m1.predict(x1)"
   ]
  },
  {
   "cell_type": "markdown",
   "metadata": {},
   "source": [
    "Mathematically calculating the slope and y-intercept\n",
    "[Formula](https://imgur.com/a/4wmi1a1)"
   ]
  },
  {
   "cell_type": "code",
   "execution_count": 57,
   "metadata": {},
   "outputs": [
    {
     "data": {
      "text/html": [
       "<div>\n",
       "<style scoped>\n",
       "    .dataframe tbody tr th:only-of-type {\n",
       "        vertical-align: middle;\n",
       "    }\n",
       "\n",
       "    .dataframe tbody tr th {\n",
       "        vertical-align: top;\n",
       "    }\n",
       "\n",
       "    .dataframe thead th {\n",
       "        text-align: right;\n",
       "    }\n",
       "</style>\n",
       "<table border=\"1\" class=\"dataframe\">\n",
       "  <thead>\n",
       "    <tr style=\"text-align: right;\">\n",
       "      <th></th>\n",
       "      <th>Weight (y)</th>\n",
       "      <th>Length (x)</th>\n",
       "      <th>xy</th>\n",
       "      <th>x**2</th>\n",
       "    </tr>\n",
       "  </thead>\n",
       "  <tbody>\n",
       "    <tr>\n",
       "      <th>0</th>\n",
       "      <td>242.0</td>\n",
       "      <td>26.200000</td>\n",
       "      <td>6340.400000</td>\n",
       "      <td>686.440000</td>\n",
       "    </tr>\n",
       "    <tr>\n",
       "      <th>1</th>\n",
       "      <td>290.0</td>\n",
       "      <td>27.166667</td>\n",
       "      <td>7878.333333</td>\n",
       "      <td>738.027778</td>\n",
       "    </tr>\n",
       "    <tr>\n",
       "      <th>2</th>\n",
       "      <td>340.0</td>\n",
       "      <td>27.166667</td>\n",
       "      <td>9236.666667</td>\n",
       "      <td>738.027778</td>\n",
       "    </tr>\n",
       "    <tr>\n",
       "      <th>3</th>\n",
       "      <td>363.0</td>\n",
       "      <td>29.600000</td>\n",
       "      <td>10744.800000</td>\n",
       "      <td>876.160000</td>\n",
       "    </tr>\n",
       "    <tr>\n",
       "      <th>4</th>\n",
       "      <td>430.0</td>\n",
       "      <td>29.833333</td>\n",
       "      <td>12828.333333</td>\n",
       "      <td>890.027778</td>\n",
       "    </tr>\n",
       "  </tbody>\n",
       "</table>\n",
       "</div>"
      ],
      "text/plain": [
       "   Weight (y)  Length (x)            xy        x**2\n",
       "0       242.0   26.200000   6340.400000  686.440000\n",
       "1       290.0   27.166667   7878.333333  738.027778\n",
       "2       340.0   27.166667   9236.666667  738.027778\n",
       "3       363.0   29.600000  10744.800000  876.160000\n",
       "4       430.0   29.833333  12828.333333  890.027778"
      ]
     },
     "execution_count": 57,
     "metadata": {},
     "output_type": "execute_result"
    }
   ],
   "source": [
    "df1 = df.copy()\n",
    "df1 = df1[[\"Weight\", \"Length\"]]\n",
    "df1.rename(columns={'Weight': 'Weight (y)', 'Length': 'Length (x)'}, inplace=True)\n",
    "df1[\"xy\"] = df1[\"Weight (y)\"] * df1[\"Length (x)\"]\n",
    "df1[\"x**2\"] = df1[\"Length (x)\"] * df1[\"Length (x)\"]\n",
    "df1.head()"
   ]
  },
  {
   "cell_type": "code",
   "execution_count": 58,
   "metadata": {},
   "outputs": [
    {
     "name": "stdout",
     "output_type": "stream",
     "text": [
      "\n",
      "Slope: 30.576099087935674\n",
      "y intercept: -476.06731270298576\n"
     ]
    }
   ],
   "source": [
    "n = len(df1[\"Weight (y)\"])\n",
    "\n",
    "m = ((n * sum(df1[\"xy\"])) - (sum(df1[\"Length (x)\"]) * sum(df1[\"Weight (y)\"]))) / ((n * sum(df1[\"x**2\"])) - (sum(df1[\"Length (x)\"]) * sum(df1[\"Length (x)\"])))\n",
    "\n",
    "b = ((sum(df1[\"Weight (y)\"]) * sum(df1[\"x**2\"])) - (sum(df1[\"Length (x)\"]) * sum(df1[\"xy\"]))) / ((n * sum(df1[\"x**2\"])) - (sum(df1[\"Length (x)\"]) * sum(df1[\"Length (x)\"])))\n",
    "\n",
    "print(f\"\"\"\n",
    "Slope: {m}\n",
    "y intercept: {b}\"\"\")"
   ]
  },
  {
   "cell_type": "code",
   "execution_count": 59,
   "metadata": {},
   "outputs": [],
   "source": [
    "df1[\"y_plots\"] = (df1[\"Length (x)\"] * m) + b"
   ]
  },
  {
   "cell_type": "code",
   "execution_count": 95,
   "metadata": {},
   "outputs": [
    {
     "data": {
      "image/png": "[encoded data removed]",
      "text/plain": [
       "<Figure size 1080x360 with 1 Axes>"
      ]
     },
     "metadata": {
      "needs_background": "light"
     },
     "output_type": "display_data"
    }
   ],
   "source": [
    "plt.scatter(x1, y)\n",
    "plt.ylabel(\"Weight\")\n",
    "plt.xlabel(\"Length\")\n",
    "plt.plot(x1, p1, color=\"red\", label=\"Computer calculated line\")\n",
    "plt.plot(df1[\"Length (x)\"], df1[\"y_plots\"] , color=\"orange\", label=\"Mathematically calculated line\")\n",
    "plt.legend(loc=\"upper left\")\n",
    "plt.grid()\n",
    "plt.show()"
   ]
  },
  {
   "cell_type": "markdown",
   "metadata": {},
   "source": [
    "# x2 Height"
   ]
  },
  {
   "cell_type": "code",
   "execution_count": 73,
   "metadata": {},
   "outputs": [
    {
     "name": "stdout",
     "output_type": "stream",
     "text": [
      "\n",
      "Slope: [60.28187533]\n",
      "y intercept: -140.89307841499794\n"
     ]
    }
   ],
   "source": [
    "x2 = pd.DataFrame(x2)\n",
    "\n",
    "m2 = LinearRegression()\n",
    "m2.fit(x2, y)\n",
    "print(f\"\"\"\n",
    "Slope: {m2.coef_}\n",
    "y intercept: {m2.intercept_}\"\"\")\n",
    "p2 = m2.predict(x2)"
   ]
  },
  {
   "cell_type": "markdown",
   "metadata": {},
   "source": [
    "Mathematically calculating the slope and y-intercept\n",
    "[Formula](https://imgur.com/a/4wmi1a1)"
   ]
  },
  {
   "cell_type": "code",
   "execution_count": 62,
   "metadata": {},
   "outputs": [
    {
     "data": {
      "text/html": [
       "<div>\n",
       "<style scoped>\n",
       "    .dataframe tbody tr th:only-of-type {\n",
       "        vertical-align: middle;\n",
       "    }\n",
       "\n",
       "    .dataframe tbody tr th {\n",
       "        vertical-align: top;\n",
       "    }\n",
       "\n",
       "    .dataframe thead th {\n",
       "        text-align: right;\n",
       "    }\n",
       "</style>\n",
       "<table border=\"1\" class=\"dataframe\">\n",
       "  <thead>\n",
       "    <tr style=\"text-align: right;\">\n",
       "      <th></th>\n",
       "      <th>Weight (y)</th>\n",
       "      <th>Height (x)</th>\n",
       "      <th>xy</th>\n",
       "      <th>x**2</th>\n",
       "    </tr>\n",
       "  </thead>\n",
       "  <tbody>\n",
       "    <tr>\n",
       "      <th>0</th>\n",
       "      <td>242.0</td>\n",
       "      <td>11.5200</td>\n",
       "      <td>2787.840</td>\n",
       "      <td>132.710400</td>\n",
       "    </tr>\n",
       "    <tr>\n",
       "      <th>1</th>\n",
       "      <td>290.0</td>\n",
       "      <td>12.4800</td>\n",
       "      <td>3619.200</td>\n",
       "      <td>155.750400</td>\n",
       "    </tr>\n",
       "    <tr>\n",
       "      <th>2</th>\n",
       "      <td>340.0</td>\n",
       "      <td>12.3778</td>\n",
       "      <td>4208.452</td>\n",
       "      <td>153.209933</td>\n",
       "    </tr>\n",
       "    <tr>\n",
       "      <th>3</th>\n",
       "      <td>363.0</td>\n",
       "      <td>12.7300</td>\n",
       "      <td>4620.990</td>\n",
       "      <td>162.052900</td>\n",
       "    </tr>\n",
       "    <tr>\n",
       "      <th>4</th>\n",
       "      <td>430.0</td>\n",
       "      <td>12.4440</td>\n",
       "      <td>5350.920</td>\n",
       "      <td>154.853136</td>\n",
       "    </tr>\n",
       "  </tbody>\n",
       "</table>\n",
       "</div>"
      ],
      "text/plain": [
       "   Weight (y)  Height (x)        xy        x**2\n",
       "0       242.0     11.5200  2787.840  132.710400\n",
       "1       290.0     12.4800  3619.200  155.750400\n",
       "2       340.0     12.3778  4208.452  153.209933\n",
       "3       363.0     12.7300  4620.990  162.052900\n",
       "4       430.0     12.4440  5350.920  154.853136"
      ]
     },
     "execution_count": 62,
     "metadata": {},
     "output_type": "execute_result"
    }
   ],
   "source": [
    "df2 = df.copy()\n",
    "df2 = df2[[\"Weight\", \"Height\"]]\n",
    "df2.rename(columns={'Weight': 'Weight (y)', 'Height': 'Height (x)'}, inplace=True)\n",
    "df2[\"xy\"] = df2[\"Weight (y)\"] * df2[\"Height (x)\"]\n",
    "df2[\"x**2\"] = df2[\"Height (x)\"] * df2[\"Height (x)\"]\n",
    "df2.head()"
   ]
  },
  {
   "cell_type": "code",
   "execution_count": 74,
   "metadata": {},
   "outputs": [
    {
     "name": "stdout",
     "output_type": "stream",
     "text": [
      "\n",
      "Slope: 60.28187533035098\n",
      "y intercept: -140.89307841499726\n"
     ]
    }
   ],
   "source": [
    "n = len(df2[\"Weight (y)\"])\n",
    "\n",
    "m = ((n * sum(df2[\"xy\"])) - (sum(df2[\"Height (x)\"]) * sum(df2[\"Weight (y)\"]))) / ((n * sum(df2[\"x**2\"])) - (sum(df2[\"Height (x)\"]) * sum(df2[\"Height (x)\"])))\n",
    "\n",
    "b = ((sum(df2[\"Weight (y)\"]) * sum(df2[\"x**2\"])) - (sum(df2[\"Height (x)\"]) * sum(df2[\"xy\"]))) / ((n * sum(df2[\"x**2\"])) - (sum(df2[\"Height (x)\"]) * sum(df2[\"Height (x)\"])))\n",
    "\n",
    "print(f\"\"\"\n",
    "Slope: {m}\n",
    "y intercept: {b}\"\"\")"
   ]
  },
  {
   "cell_type": "code",
   "execution_count": 90,
   "metadata": {},
   "outputs": [],
   "source": [
    "df2[\"y_plots\"] = (df2[\"Height (x)\"] * m) + b"
   ]
  },
  {
   "cell_type": "code",
   "execution_count": 96,
   "metadata": {},
   "outputs": [
    {
     "data": {
      "image/png": "[encoded data removed]",
      "text/plain": [
       "<Figure size 1080x360 with 1 Axes>"
      ]
     },
     "metadata": {
      "needs_background": "light"
     },
     "output_type": "display_data"
    }
   ],
   "source": [
    "plt.scatter(x2, y)\n",
    "plt.ylabel(\"Weight\")\n",
    "plt.xlabel(\"Height\")\n",
    "plt.plot(x2, p2, color=\"red\", label=\"Computer calculated line\")\n",
    "plt.plot(df2[\"Height (x)\"], df2[\"y_plots\"] , color=\"orange\", label=\"Mathematically calculated line\")\n",
    "plt.legend(loc=\"upper left\")\n",
    "plt.grid()\n",
    "plt.show()"
   ]
  },
  {
   "cell_type": "markdown",
   "metadata": {},
   "source": [
    "# x3 Width"
   ]
  },
  {
   "cell_type": "code",
   "execution_count": 67,
   "metadata": {},
   "outputs": [
    {
     "name": "stdout",
     "output_type": "stream",
     "text": [
      "\n",
      "Slope: [187.77514373]\n",
      "y intercept: -429.9132647792899\n"
     ]
    }
   ],
   "source": [
    "x3 = pd.DataFrame(x3)\n",
    "\n",
    "m3 = LinearRegression()\n",
    "m3.fit(x3, y)\n",
    "print(f\"\"\"\n",
    "Slope: {m3.coef_}\n",
    "y intercept: {m3.intercept_}\"\"\")\n",
    "p3 = m3.predict(x3)"
   ]
  },
  {
   "cell_type": "markdown",
   "metadata": {},
   "source": [
    "Mathematically calculating the slope and y-intercept\n",
    "[Formula](https://imgur.com/a/4wmi1a1)"
   ]
  },
  {
   "cell_type": "code",
   "execution_count": 97,
   "metadata": {},
   "outputs": [
    {
     "data": {
      "text/html": [
       "<div>\n",
       "<style scoped>\n",
       "    .dataframe tbody tr th:only-of-type {\n",
       "        vertical-align: middle;\n",
       "    }\n",
       "\n",
       "    .dataframe tbody tr th {\n",
       "        vertical-align: top;\n",
       "    }\n",
       "\n",
       "    .dataframe thead th {\n",
       "        text-align: right;\n",
       "    }\n",
       "</style>\n",
       "<table border=\"1\" class=\"dataframe\">\n",
       "  <thead>\n",
       "    <tr style=\"text-align: right;\">\n",
       "      <th></th>\n",
       "      <th>Weight (y)</th>\n",
       "      <th>Width (x)</th>\n",
       "      <th>xy</th>\n",
       "      <th>x**2</th>\n",
       "    </tr>\n",
       "  </thead>\n",
       "  <tbody>\n",
       "    <tr>\n",
       "      <th>0</th>\n",
       "      <td>242.0</td>\n",
       "      <td>4.0200</td>\n",
       "      <td>972.8400</td>\n",
       "      <td>16.160400</td>\n",
       "    </tr>\n",
       "    <tr>\n",
       "      <th>1</th>\n",
       "      <td>290.0</td>\n",
       "      <td>4.3056</td>\n",
       "      <td>1248.6240</td>\n",
       "      <td>18.538191</td>\n",
       "    </tr>\n",
       "    <tr>\n",
       "      <th>2</th>\n",
       "      <td>340.0</td>\n",
       "      <td>4.6961</td>\n",
       "      <td>1596.6740</td>\n",
       "      <td>22.053355</td>\n",
       "    </tr>\n",
       "    <tr>\n",
       "      <th>3</th>\n",
       "      <td>363.0</td>\n",
       "      <td>4.4555</td>\n",
       "      <td>1617.3465</td>\n",
       "      <td>19.851480</td>\n",
       "    </tr>\n",
       "    <tr>\n",
       "      <th>4</th>\n",
       "      <td>430.0</td>\n",
       "      <td>5.1340</td>\n",
       "      <td>2207.6200</td>\n",
       "      <td>26.357956</td>\n",
       "    </tr>\n",
       "  </tbody>\n",
       "</table>\n",
       "</div>"
      ],
      "text/plain": [
       "   Weight (y)  Width (x)         xy       x**2\n",
       "0       242.0     4.0200   972.8400  16.160400\n",
       "1       290.0     4.3056  1248.6240  18.538191\n",
       "2       340.0     4.6961  1596.6740  22.053355\n",
       "3       363.0     4.4555  1617.3465  19.851480\n",
       "4       430.0     5.1340  2207.6200  26.357956"
      ]
     },
     "execution_count": 97,
     "metadata": {},
     "output_type": "execute_result"
    }
   ],
   "source": [
    "df3 = df.copy()\n",
    "df3 = df3[[\"Weight\", \"Width\"]]\n",
    "df3.rename(columns={'Weight': 'Weight (y)', 'Width': 'Width (x)'}, inplace=True)\n",
    "df3[\"xy\"] = df3[\"Weight (y)\"] * df3[\"Width (x)\"]\n",
    "df3[\"x**2\"] = df3[\"Width (x)\"] * df3[\"Width (x)\"]\n",
    "df3.head()"
   ]
  },
  {
   "cell_type": "code",
   "execution_count": 98,
   "metadata": {},
   "outputs": [
    {
     "name": "stdout",
     "output_type": "stream",
     "text": [
      "\n",
      "Slope: 187.7751437282082\n",
      "y intercept: -429.9132647792923\n"
     ]
    }
   ],
   "source": [
    "n = len(df3[\"Weight (y)\"])\n",
    "\n",
    "m = ((n * sum(df3[\"xy\"])) - (sum(df3[\"Width (x)\"]) * sum(df3[\"Weight (y)\"]))) / ((n * sum(df3[\"x**2\"])) - (sum(df3[\"Width (x)\"]) * sum(df3[\"Width (x)\"])))\n",
    "\n",
    "b = ((sum(df3[\"Weight (y)\"]) * sum(df3[\"x**2\"])) - (sum(df3[\"Width (x)\"]) * sum(df3[\"xy\"]))) / ((n * sum(df3[\"x**2\"])) - (sum(df3[\"Width (x)\"]) * sum(df3[\"Width (x)\"])))\n",
    "\n",
    "print(f\"\"\"\n",
    "Slope: {m}\n",
    "y intercept: {b}\"\"\")"
   ]
  },
  {
   "cell_type": "code",
   "execution_count": 99,
   "metadata": {},
   "outputs": [],
   "source": [
    "df2[\"y_plots\"] = (df2[\"Height (x)\"] * m) + b"
   ]
  },
  {
   "cell_type": "code",
   "execution_count": 100,
   "metadata": {},
   "outputs": [
    {
     "data": {
      "image/png": "[encoded data removed]",
      "text/plain": [
       "<Figure size 1080x360 with 1 Axes>"
      ]
     },
     "metadata": {
      "needs_background": "light"
     },
     "output_type": "display_data"
    }
   ],
   "source": [
    "plt.scatter(x3, y)\n",
    "plt.ylabel(\"Weight\")\n",
    "plt.xlabel(\"Width\")\n",
    "plt.plot(x3, p3, color=\"red\", label=\"Computer calculated line\")\n",
    "plt.plot(df2[\"Height (x)\"], df2[\"y_plots\"] , color=\"orange\", label=\"Mathematically calculated line\")\n",
    "plt.legend(loc=\"upper left\")\n",
    "plt.grid()\n",
    "plt.show()"
   ]
  },
  {
   "cell_type": "markdown",
   "metadata": {},
   "source": [
    "# x4 Volume"
   ]
  },
  {
   "cell_type": "code",
   "execution_count": 69,
   "metadata": {},
   "outputs": [
    {
     "name": "stdout",
     "output_type": "stream",
     "text": [
      "\n",
      "Slope: [0.242401]\n",
      "y intercept: 22.097125552699026\n"
     ]
    }
   ],
   "source": [
    "x4 = pd.DataFrame(x4)\n",
    "\n",
    "m4 = LinearRegression()\n",
    "m4.fit(x4, y)\n",
    "print(f\"\"\"\n",
    "Slope: {m4.coef_}\n",
    "y intercept: {m4.intercept_}\"\"\")\n",
    "p4 = m4.predict(x4)"
   ]
  },
  {
   "cell_type": "markdown",
   "metadata": {},
   "source": [
    "Mathematically calculating the slope and y-intercept\n",
    "[Formula](https://imgur.com/a/4wmi1a1)"
   ]
  },
  {
   "cell_type": "code",
   "execution_count": 101,
   "metadata": {},
   "outputs": [
    {
     "data": {
      "text/html": [
       "<div>\n",
       "<style scoped>\n",
       "    .dataframe tbody tr th:only-of-type {\n",
       "        vertical-align: middle;\n",
       "    }\n",
       "\n",
       "    .dataframe tbody tr th {\n",
       "        vertical-align: top;\n",
       "    }\n",
       "\n",
       "    .dataframe thead th {\n",
       "        text-align: right;\n",
       "    }\n",
       "</style>\n",
       "<table border=\"1\" class=\"dataframe\">\n",
       "  <thead>\n",
       "    <tr style=\"text-align: right;\">\n",
       "      <th></th>\n",
       "      <th>Weight (y)</th>\n",
       "      <th>Volume (x)</th>\n",
       "      <th>xy</th>\n",
       "      <th>x**2</th>\n",
       "    </tr>\n",
       "  </thead>\n",
       "  <tbody>\n",
       "    <tr>\n",
       "      <th>0</th>\n",
       "      <td>242.0</td>\n",
       "      <td>1213.332480</td>\n",
       "      <td>293626.460160</td>\n",
       "      <td>1.472176e+06</td>\n",
       "    </tr>\n",
       "    <tr>\n",
       "      <th>1</th>\n",
       "      <td>290.0</td>\n",
       "      <td>1459.770624</td>\n",
       "      <td>423333.480960</td>\n",
       "      <td>2.130930e+06</td>\n",
       "    </tr>\n",
       "    <tr>\n",
       "      <th>2</th>\n",
       "      <td>340.0</td>\n",
       "      <td>1579.127335</td>\n",
       "      <td>536903.294044</td>\n",
       "      <td>2.493643e+06</td>\n",
       "    </tr>\n",
       "    <tr>\n",
       "      <th>3</th>\n",
       "      <td>363.0</td>\n",
       "      <td>1678.868044</td>\n",
       "      <td>609429.099972</td>\n",
       "      <td>2.818598e+06</td>\n",
       "    </tr>\n",
       "    <tr>\n",
       "      <th>4</th>\n",
       "      <td>430.0</td>\n",
       "      <td>1905.976964</td>\n",
       "      <td>819570.094520</td>\n",
       "      <td>3.632748e+06</td>\n",
       "    </tr>\n",
       "  </tbody>\n",
       "</table>\n",
       "</div>"
      ],
      "text/plain": [
       "   Weight (y)   Volume (x)             xy          x**2\n",
       "0       242.0  1213.332480  293626.460160  1.472176e+06\n",
       "1       290.0  1459.770624  423333.480960  2.130930e+06\n",
       "2       340.0  1579.127335  536903.294044  2.493643e+06\n",
       "3       363.0  1678.868044  609429.099972  2.818598e+06\n",
       "4       430.0  1905.976964  819570.094520  3.632748e+06"
      ]
     },
     "execution_count": 101,
     "metadata": {},
     "output_type": "execute_result"
    }
   ],
   "source": [
    "df4 = df.copy()\n",
    "df4 = df4[[\"Weight\", \"Volume\"]]\n",
    "df4.rename(columns={'Weight': 'Weight (y)', 'Volume': 'Volume (x)'}, inplace=True)\n",
    "df4[\"xy\"] = df4[\"Weight (y)\"] * df4[\"Volume (x)\"]\n",
    "df4[\"x**2\"] = df4[\"Volume (x)\"] * df4[\"Volume (x)\"]\n",
    "df4.head()"
   ]
  },
  {
   "cell_type": "code",
   "execution_count": 103,
   "metadata": {},
   "outputs": [
    {
     "name": "stdout",
     "output_type": "stream",
     "text": [
      "\n",
      "Slope: 0.24240100046304547\n",
      "y intercept: 22.09712555270013\n"
     ]
    }
   ],
   "source": [
    "n = len(df4[\"Weight (y)\"])\n",
    "\n",
    "m = ((n * sum(df4[\"xy\"])) - (sum(df4[\"Volume (x)\"]) * sum(df4[\"Weight (y)\"]))) / ((n * sum(df4[\"x**2\"])) - (sum(df4[\"Volume (x)\"]) * sum(df4[\"Volume (x)\"])))\n",
    "\n",
    "b = ((sum(df4[\"Weight (y)\"]) * sum(df4[\"x**2\"])) - (sum(df4[\"Volume (x)\"]) * sum(df4[\"xy\"]))) / ((n * sum(df4[\"x**2\"])) - (sum(df4[\"Volume (x)\"]) * sum(df4[\"Volume (x)\"])))\n",
    "\n",
    "print(f\"\"\"\n",
    "Slope: {m}\n",
    "y intercept: {b}\"\"\")"
   ]
  },
  {
   "cell_type": "code",
   "execution_count": 104,
   "metadata": {},
   "outputs": [],
   "source": [
    "df4[\"y_plots\"] = (df4[\"Volume (x)\"] * m) + b"
   ]
  },
  {
   "cell_type": "code",
   "execution_count": 106,
   "metadata": {},
   "outputs": [
    {
     "data": {
      "image/png": "[encoded data removed]",
      "text/plain": [
       "<Figure size 1080x360 with 1 Axes>"
      ]
     },
     "metadata": {
      "needs_background": "light"
     },
     "output_type": "display_data"
    }
   ],
   "source": [
    "plt.scatter(x4, y)\n",
    "plt.ylabel(\"Weight\")\n",
    "plt.xlabel(\"Volume\")\n",
    "plt.plot(x4, p4, color=\"red\", label=\"Computer calculated line\")\n",
    "plt.plot(df4[\"Volume (x)\"], df4[\"y_plots\"] , color=\"orange\", label=\"Mathematically calculated line\")\n",
    "plt.legend(loc=\"upper left\")\n",
    "plt.grid()\n",
    "plt.show()"
   ]
  },
  {
   "cell_type": "markdown",
   "metadata": {},
   "source": [
    "# All features"
   ]
  },
  {
   "cell_type": "code",
   "execution_count": 71,
   "metadata": {},
   "outputs": [
    {
     "name": "stdout",
     "output_type": "stream",
     "text": [
      "\n",
      "Slope: [ 12.96845027 -22.22905676  -6.01250651   0.22430021]\n",
      "y intercept: -95.1837630530934\n"
     ]
    }
   ],
   "source": [
    "x = df[[\"Length\", \"Height\", \"Width\", \"Volume\"]]\n",
    "\n",
    "m = LinearRegression()\n",
    "m.fit(x, y)\n",
    "print(f\"\"\"\n",
    "Slope: {m.coef_}\n",
    "y intercept: {m.intercept_}\"\"\")\n",
    "p = m.predict(x)"
   ]
  },
  {
   "cell_type": "code",
   "execution_count": 72,
   "metadata": {},
   "outputs": [
    {
     "data": {
      "image/png": "[encoded data removed]",
      "text/plain": [
       "<Figure size 1080x360 with 1 Axes>"
      ]
     },
     "metadata": {
      "needs_background": "light"
     },
     "output_type": "display_data"
    }
   ],
   "source": [
    "plt.scatter(x1, y, label=\"Length\")\n",
    "plt.scatter(x2, y, label=\"Height\")\n",
    "plt.scatter(x3, y, label=\"Width\")\n",
    "plt.scatter(x4, y, label=\"Volume\")\n",
    "plt.ylabel(\"Weight\")\n",
    "plt.plot(x1, p1, label=\"Length\")\n",
    "plt.plot(x2, p2, label=\"Height\")\n",
    "plt.plot(x3, p3, label=\"Width\")\n",
    "plt.plot(x4, p4, label=\"Volume\")\n",
    "plt.grid()\n",
    "plt.legend()\n",
    "plt.show()"
   ]
  }
 ],
 "metadata": {
  "interpreter": {
   "hash": "e7370f93d1d0cde622a1f8e1c04877d8463912d04d973331ad4851f04de6915a"
  },
  "kernelspec": {
   "display_name": "Python 3.9.2 64-bit",
   "name": "python3"
  },
  "language_info": {
   "codemirror_mode": {
    "name": "ipython",
    "version": 3
   },
   "file_extension": ".py",
   "mimetype": "text/x-python",
   "name": "python",
   "nbconvert_exporter": "python",
   "pygments_lexer": "ipython3",
   "version": "3.9.0"
  },
  "orig_nbformat": 4
 },
 "nbformat": 4,
 "nbformat_minor": 2
}
